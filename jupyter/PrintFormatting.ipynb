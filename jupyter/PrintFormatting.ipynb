{
 "cells": [
  {
   "cell_type": "code",
   "execution_count": 1,
   "metadata": {},
   "outputs": [
    {
     "name": "stdout",
     "output_type": "stream",
     "text": [
      "This is a string\n"
     ]
    }
   ],
   "source": [
    "print(\"This is a string\")"
   ]
  },
  {
   "cell_type": "code",
   "execution_count": 15,
   "metadata": {},
   "outputs": [
    {
     "name": "stdout",
     "output_type": "stream",
     "text": [
      "Place my variable here: String\n"
     ]
    }
   ],
   "source": [
    "s = 'String'\n",
    "print('Place my variable here:', s)"
   ]
  },
  {
   "cell_type": "code",
   "execution_count": 8,
   "metadata": {},
   "outputs": [
    {
     "ename": "SyntaxError",
     "evalue": "invalid syntax (<ipython-input-8-128d1eec01d8>, line 1)",
     "output_type": "error",
     "traceback": [
      "\u001b[1;36m  File \u001b[1;32m\"<ipython-input-8-128d1eec01d8>\"\u001b[1;36m, line \u001b[1;32m1\u001b[0m\n\u001b[1;33m    print 'Place my variable here: %s' %(s) #python 2\u001b[0m\n\u001b[1;37m                                     ^\u001b[0m\n\u001b[1;31mSyntaxError\u001b[0m\u001b[1;31m:\u001b[0m invalid syntax\n"
     ]
    }
   ],
   "source": [
    "print 'Place my variable here: %s' %(s) #python 2"
   ]
  },
  {
   "cell_type": "code",
   "execution_count": 26,
   "metadata": {},
   "outputs": [
    {
     "name": "stdout",
     "output_type": "stream",
     "text": [
      "Floating point nunber: 13.14\n"
     ]
    }
   ],
   "source": [
    "print('Floating point nunber:', \"%1.2f\"% (13.145)) # (at least) 1 digit long, with 2 decimal places"
   ]
  },
  {
   "cell_type": "markdown",
   "metadata": {},
   "source": [
    "Python 3 formatting examples: http://www.python-course.eu/python3_formatted_output.php"
   ]
  },
  {
   "cell_type": "code",
   "execution_count": 25,
   "metadata": {},
   "outputs": [
    {
     "name": "stdout",
     "output_type": "stream",
     "text": [
      "Floating point nunber:    13.14\n"
     ]
    }
   ],
   "source": [
    "print('Floating point nunber:', \"%8.2f\"% (13.145)) # 8 digits long, 2 decimal places"
   ]
  },
  {
   "cell_type": "code",
   "execution_count": 28,
   "metadata": {},
   "outputs": [
    {
     "name": "stdout",
     "output_type": "stream",
     "text": [
      "Floating point nunber: 13\n"
     ]
    }
   ],
   "source": [
    "print('Floating point nunber:', \"%1.0f\"% (13.145)) # (at least) 1 digit long, with 0 decimal places"
   ]
  },
  {
   "cell_type": "code",
   "execution_count": 29,
   "metadata": {},
   "outputs": [
    {
     "name": "stdout",
     "output_type": "stream",
     "text": [
      "Floating point nunber:     13.1\n"
     ]
    }
   ],
   "source": [
    "print('Floating point nunber:', \"%8.1f\"% (13.145)) # (at least) 8 digit long, with 1 decimal places"
   ]
  },
  {
   "cell_type": "markdown",
   "metadata": {},
   "source": [
    "First arg is total minimum digits/chars the string should contain. Leave as 1 if you want to default to some normal looking numbers (like 0.54 or 41)"
   ]
  },
  {
   "cell_type": "code",
   "execution_count": 31,
   "metadata": {},
   "outputs": [
    {
     "name": "stdout",
     "output_type": "stream",
     "text": [
      "Convert to string 123\n"
     ]
    }
   ],
   "source": [
    "print('Convert to string', \"%r\"% (123)) "
   ]
  },
  {
   "cell_type": "markdown",
   "metadata": {},
   "source": [
    "r    String (converts any python object using repr()).\n",
    "\n",
    "s    String (converts any python object using str())."
   ]
  },
  {
   "cell_type": "code",
   "execution_count": 41,
   "metadata": {},
   "outputs": [
    {
     "name": "stdout",
     "output_type": "stream",
     "text": [
      "First: 1 Second: 2 Third: 3\n"
     ]
    }
   ],
   "source": [
    "print('First:', \"%s\"% (\"1\"), 'Second:', \"%s\"% (\"2\"), 'Third:', \"%s\"% (\"3\")) #Commas add spaces automatically"
   ]
  },
  {
   "cell_type": "code",
   "execution_count": 40,
   "metadata": {},
   "outputs": [
    {
     "name": "stdout",
     "output_type": "stream",
     "text": [
      "First:1Second:2Third:3\n"
     ]
    }
   ],
   "source": [
    "print('First:' + \"%s\"% (\"1\") + 'Second:' + \"%s\"% (\"2\") + 'Third:' + \"%s\"% (\"3\")) #Need to add spaces when using plus signs"
   ]
  },
  {
   "cell_type": "code",
   "execution_count": 51,
   "metadata": {},
   "outputs": [
    {
     "ename": "SyntaxError",
     "evalue": "invalid syntax (<ipython-input-51-0253bdba33fa>, line 1)",
     "output_type": "error",
     "traceback": [
      "\u001b[1;36m  File \u001b[1;32m\"<ipython-input-51-0253bdba33fa>\"\u001b[1;36m, line \u001b[1;32m1\u001b[0m\n\u001b[1;33m    print 'First: {x} Second: {y} Third: {x}'.format(x='inserted',y='two!') #python 2 way\u001b[0m\n\u001b[1;37m                                            ^\u001b[0m\n\u001b[1;31mSyntaxError\u001b[0m\u001b[1;31m:\u001b[0m invalid syntax\n"
     ]
    }
   ],
   "source": [
    "print 'First: {x} Second: {y} Third: {x}'.format(x='inserted',y='two!') #python 2 way"
   ]
  },
  {
   "cell_type": "code",
   "execution_count": 50,
   "metadata": {},
   "outputs": [
    {
     "name": "stdout",
     "output_type": "stream",
     "text": [
      "First: inserted Second: other Third: inserted\n"
     ]
    }
   ],
   "source": [
    "x = 'inserted'\n",
    "y = 'other'\n",
    "print('First:', x, 'Second:', y, 'Third:', x)"
   ]
  },
  {
   "cell_type": "code",
   "execution_count": 52,
   "metadata": {},
   "outputs": [
    {
     "name": "stdout",
     "output_type": "stream",
     "text": [
      "hello\n"
     ]
    }
   ],
   "source": [
    "print('hello')"
   ]
  },
  {
   "cell_type": "code",
   "execution_count": 54,
   "metadata": {},
   "outputs": [
    {
     "name": "stdout",
     "output_type": "stream",
     "text": [
      "One: INSERT!\n"
     ]
    }
   ],
   "source": [
    "print('One: {x}'.format(x='INSERT!')) #python 3 way! yay! he covered it!"
   ]
  },
  {
   "cell_type": "markdown",
   "metadata": {
    "collapsed": true
   },
   "source": [
    "Another good resource, recommended from lecture: https://pyformat.info/"
   ]
  },
  {
   "cell_type": "code",
   "execution_count": null,
   "metadata": {
    "collapsed": true
   },
   "outputs": [],
   "source": []
  }
 ],
 "metadata": {
  "kernelspec": {
   "display_name": "Python 3",
   "language": "python",
   "name": "python3"
  },
  "language_info": {
   "codemirror_mode": {
    "name": "ipython",
    "version": 3
   },
   "file_extension": ".py",
   "mimetype": "text/x-python",
   "name": "python",
   "nbconvert_exporter": "python",
   "pygments_lexer": "ipython3",
   "version": "3.5.3"
  }
 },
 "nbformat": 4,
 "nbformat_minor": 2
}
